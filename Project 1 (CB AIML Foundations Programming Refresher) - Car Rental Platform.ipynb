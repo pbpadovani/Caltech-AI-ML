{
 "cells": [
  {
   "cell_type": "code",
   "execution_count": 1,
   "id": "e4dbc7e9-4186-412b-86dd-7f1d853330d5",
   "metadata": {},
   "outputs": [],
   "source": [
    "#Importing the libraries I will need\n",
    "import datetime as dt\n",
    "import tabulate as tb"
   ]
  },
  {
   "cell_type": "code",
   "execution_count": 7,
   "id": "4d463225-355f-43ad-9d1f-b554e144933d",
   "metadata": {},
   "outputs": [],
   "source": [
    "car_rates = {\n",
    "    #for these lists, first entry is cars in stock, second is hourly rate, third is daily rate, fourth is weekly rate\n",
    "    'raycaster': ['raycaster', 5, 22, 91, 275],\n",
    "    'venom': ['venom', 3, 15, 74, 161],\n",
    "    'zenith': ['zenith', 8, 17, 80, 213]\n",
    "}"
   ]
  },
  {
   "cell_type": "code",
   "execution_count": 8,
   "id": "0aecf442-0f3d-4077-b0de-4c5e11d19d06",
   "metadata": {},
   "outputs": [],
   "source": [
    "#defining the rent class\n",
    "class Rent:\n",
    "    \"\"\"placing the lists we made into the initialize method\"\"\"\n",
    "    def __init__(self, raycaster, venom, zenith, car_rates):\n",
    "        self.zenith = car_rates['zenith']\n",
    "        self.venom = car_rates['venom']\n",
    "        self.raycaster = car_rates['raycaster']\n",
    "        self.car_rates = car_rates\n",
    "        self.invoice = []\n",
    "        self.total_cost = 0\n",
    "\n",
    "    def available(self):\n",
    "        \"\"\"this is displaying the availabe units from the first observation in each list\"\"\"\n",
    "        headers = ['Cars', 'Available', '$ Hourly', '$ Daily', '$ Weekly']\n",
    "\n",
    "        print(\"-------------------Saints Row Car Rental------------------\")\n",
    "        print(\"----------------------------------------------------------\")\n",
    "        print(tb.tabulate([self.zenith, self.venom, self.raycaster], headers=headers))\n",
    "\n",
    "    def check_car_n(self, name, rQuantity):\n",
    "        \"\"\"This function checks to see if we have enough cars for that order via the if/elif trees below\"\"\"\n",
    "        if name == 'zenith':\n",
    "             if rQuantity > self.car_rates['zenith'][1]:\n",
    "                 print(\"The amount of Viper cars you selected are currently not available.\")\n",
    "                 return False\n",
    "             else:\n",
    "                 return True\n",
    "        elif name == 'venom':\n",
    "            if rQuantity > self.car_rates['venom'][1]:\n",
    "                print(\"The amount of Viper cars you selected are currently not available.\")\n",
    "                return False\n",
    "            else:\n",
    "                return True\n",
    "        elif name == 'raycaster':\n",
    "            if rQuantity > self.car_rates['raycaster'][1]:\n",
    "                print(\"The amount of Viper cars you selected are currently not available.\")\n",
    "                return False\n",
    "            else:\n",
    "                return True\n",
    "        else:\n",
    "            print(\"none of those cars are available.\")\n",
    "    def rent_time(self):\n",
    "        \"This function saves the time the vehicle was rented for future calculations\"\n",
    "        #Saving this, this is what we'll use to calculate the time rented\n",
    "        print('Time Out: ' + dt.datetime.now().strftime('%Y-%m-%d' '%H:%M:%S')) #when printing, convert to sting. Not for calculations\n",
    "        return dt.datetime.now() #returning this to be used in both the get_bill method, and to be used in the #return_cars method, in which we will subtract the two\n",
    "    def return_time(self):\n",
    "        \"\"\"This function saves the return time and calculates the duration\"\"\"\n",
    "        print('Return time: ' + dt.datetime.now().strftime('%Y-%m-%d' '%H:%M:%S'))  # when printing, convert to sting. Not for calculations\n",
    "        return dt.datetime.now() #returning this to be used in the return_cars method only, as described in the rent_time method comment\n",
    "    def get_bill(self):\n",
    "        \"\"\"This function generates the final bill\"\"\"\n",
    "        print(\"\\n---Invoice---\")\n",
    "        self.exit_time = self.rent_time()\n",
    "        for entry in self.invoice:\n",
    "            car, time, quantity, rQuantity = entry #giving every entry in the list we've been appending (invoice[]) a variable\n",
    "            rate = self.car_rates[car][time]\n",
    "            cost = quantity * rate * rQuantity #the calculation for the cost of the car, the rate, for how long, and the number of cars\n",
    "            print(f\"Car Type: {car.capitalize()}    # Of Cars: {rQuantity}     rate: ${rate}    # of rate bought: {quantity}    Cost: ${cost}\")\n",
    "            self.total_cost += cost  # Update the total cost with the += operator\n",
    "\n",
    "        print(f\"Total Cost: ${self.total_cost}\\n\\n---------------\") #display the total cost\n",
    "\n",
    "    def return_cars(self):\n",
    "        \"\"\"This function returns the vehicles\"\"\"\n",
    "        return_time = self.return_time()  # Store the return time\n",
    "        for entry in self.invoice: #another for loop that displays the cars being returned, and adds the rQuantity value of cars back into the main car list \n",
    "            car, time, quantity, rQuantity = entry\n",
    "            print(\"-----------------------\")\n",
    "            print(f\"Returning Car Type: {car.capitalize()}\\nat: {return_time}\\nTotal Cars Returned: {rQuantity}\")\n",
    "            print(\"-----------------------\")\n",
    "            self.car_rates[car][1] = self.car_rates[car][1] + rQuantity #readding to the list here\n",
    "        time_used = return_time - self.exit_time #here is where we subtract the two times (subtract the return time from the exited time)\n",
    "        total_seconds = time_used.total_seconds()\n",
    "        days, remainder = divmod(total_seconds, 86400)\n",
    "        hours, remainder = divmod(remainder, 3600)\n",
    "        minutes, seconds = divmod(remainder, 60)\n",
    "        print(\"-------Time In, Time Out-------\")\n",
    "        print(f\"Time of Rental: {self.exit_time}\\nTime of Return: {return_time}\")\n",
    "        print(\n",
    "            f\"---\\nTotal Time Used: {int(days)} days, {int(hours)} hours, {int(minutes)} minutes, {int(seconds)} seconds\\n---------------\\n\\n\")\n",
    "        self.invoice = [] #resetting both the invoice list and the total cost when the customer checks out\n",
    "        self.total_cost = 0\n",
    "    def rent_car(self):\n",
    "        \"\"\"This function will determine how many cars they want and from which type! It will also save it to a var \"\"\"\n",
    "        print(\"Please select what car you would like to rent\\n---------------------------------------------\")\n",
    "        print(\"1. raycaster\\n2. venom\\n3. zenith\")\n",
    "        rentcounter = int(input())\n",
    "        if rentcounter == 1:\n",
    "            car_type = \"raycaster\"\n",
    "            rQuantity = int(input(\"How many cars of this variety would you like to rent?\"))\n",
    "            if self.check_car_n(car_type, rQuantity):\n",
    "                print(\"Please select a timeframe:\\n1. Hourly\\n2. Daily\\n3. Weekly\")\n",
    "                time = int(input())\n",
    "                print(\"Define the quantity (number of hours, days, weeks): \")\n",
    "                quantity = int(input())\n",
    "                self.raycaster[1] -= rQuantity\n",
    "                #I'm appending the invoice list. self.raycaster[1+time]. I'm doing [1+time] because\n",
    "                #0 in the list is the name, 1 in the list is the quantity, so I'm adding what they\n",
    "                #inputted (+1 for hourly, +2 for daily, +3 for weekly).\n",
    "                self.invoice.append((self.raycaster[0], 1 + time, quantity, rQuantity))\n",
    "            else:\n",
    "                print(f\"we have {self.raycaster[1]} available.\")\n",
    "        elif rentcounter == 2:\n",
    "            car_type = \"venom\"\n",
    "            rQuantity = int(input(\"How many cars of this variety would you like to rent?\"))\n",
    "            if self.check_car_n(car_type, rQuantity):\n",
    "                print(\"Please select a timeframe:\\n1. Hourly\\n2. Daily\\n3. Weekly\")\n",
    "                time = int(input())\n",
    "                print(\"Define the quantity (number of hours, days, weeks): \")\n",
    "                quantity = int(input())\n",
    "                self.venom[1] -= rQuantity\n",
    "                self.invoice.append((self.venom[0], 1 + time, quantity, rQuantity))\n",
    "            else:\n",
    "                print(f\"we have {self.venom[1]} available.\")\n",
    "        elif rentcounter == 3:\n",
    "            car_type = \"zenith\"\n",
    "            rQuantity = int(input(\"How many cars of this variety would you like to rent?\"))\n",
    "            if self.check_car_n(car_type, rQuantity):\n",
    "                print(\"Please select a timeframe:\\n1. Hourly\\n2. Daily\\n3. Weekly\")\n",
    "                time = int(input())\n",
    "                print(\"Define the quantity (number of hours, days, weeks): \")\n",
    "                quantity = int(input())\n",
    "                self.zenith[1] -= rQuantity\n",
    "                self.invoice.append((self.zenith[0], 1 + time, quantity, rQuantity))\n",
    "            else:\n",
    "                print(f\"we have {self.zenith[1]} available.\")\n",
    "        self.rent_time()"
   ]
  },
  {
   "cell_type": "code",
   "execution_count": 9,
   "id": "66f8c0d6-6092-438c-8931-7cec70763858",
   "metadata": {},
   "outputs": [],
   "source": [
    "def main(): #this is the main function, which will give them a number of options. All of these options call on the class methods\n",
    "    choice = 5 #setting an arbitrary number\n",
    "    rental = Rent(car_rates['raycaster'], car_rates['venom'], car_rates['zenith'], car_rates)  # Create an instance of Rent class\n",
    "    print(\"---Saints Row Car Rental---\")\n",
    "    while choice != 0:\n",
    "        print(\"please make a selection:\\n1. display availablity and rates cars\\n2. rent a car\\n3. return a car\\n4. print bill\\n0. exit\")\n",
    "        choice = int(input())\n",
    "        if choice == 1:\n",
    "            rental.available()\n",
    "        elif choice == 2:\n",
    "            rental.rent_car()\n",
    "        elif choice ==3:\n",
    "            rental.return_cars()\n",
    "        elif choice == 4:\n",
    "            rental.get_bill()"
   ]
  },
  {
   "cell_type": "code",
   "execution_count": 10,
   "id": "d39d5401-81dd-4cb2-84b1-1081a6456818",
   "metadata": {},
   "outputs": [
    {
     "name": "stdout",
     "output_type": "stream",
     "text": [
      "---Saints Row Car Rental---\n",
      "please make a selection:\n",
      "1. display availablity and rates cars\n",
      "2. rent a car\n",
      "3. return a car\n",
      "4. print bill\n",
      "0. exit\n"
     ]
    },
    {
     "name": "stdin",
     "output_type": "stream",
     "text": [
      " 4\n"
     ]
    },
    {
     "name": "stdout",
     "output_type": "stream",
     "text": [
      "\n",
      "---Invoice---\n",
      "Time Out: 2023-12-1310:33:35\n",
      "Total Cost: $0\n",
      "\n",
      "---------------\n",
      "please make a selection:\n",
      "1. display availablity and rates cars\n",
      "2. rent a car\n",
      "3. return a car\n",
      "4. print bill\n",
      "0. exit\n"
     ]
    },
    {
     "name": "stdin",
     "output_type": "stream",
     "text": [
      " 2\n"
     ]
    },
    {
     "name": "stdout",
     "output_type": "stream",
     "text": [
      "Please select what car you would like to rent\n",
      "---------------------------------------------\n",
      "1. raycaster\n",
      "2. venom\n",
      "3. zenith\n"
     ]
    },
    {
     "name": "stdin",
     "output_type": "stream",
     "text": [
      " 3\n",
      "How many cars of this variety would you like to rent? 2\n"
     ]
    },
    {
     "name": "stdout",
     "output_type": "stream",
     "text": [
      "Please select a timeframe:\n",
      "1. Hourly\n",
      "2. Daily\n",
      "3. Weekly\n"
     ]
    },
    {
     "name": "stdin",
     "output_type": "stream",
     "text": [
      " 2\n"
     ]
    },
    {
     "name": "stdout",
     "output_type": "stream",
     "text": [
      "Define the quantity (number of hours, days, weeks): \n"
     ]
    },
    {
     "name": "stdin",
     "output_type": "stream",
     "text": [
      " 1\n"
     ]
    },
    {
     "name": "stdout",
     "output_type": "stream",
     "text": [
      "Time Out: 2023-12-1310:33:49\n",
      "please make a selection:\n",
      "1. display availablity and rates cars\n",
      "2. rent a car\n",
      "3. return a car\n",
      "4. print bill\n",
      "0. exit\n"
     ]
    },
    {
     "name": "stdin",
     "output_type": "stream",
     "text": [
      " 2\n"
     ]
    },
    {
     "name": "stdout",
     "output_type": "stream",
     "text": [
      "Please select what car you would like to rent\n",
      "---------------------------------------------\n",
      "1. raycaster\n",
      "2. venom\n",
      "3. zenith\n"
     ]
    },
    {
     "name": "stdin",
     "output_type": "stream",
     "text": [
      " 2\n",
      "How many cars of this variety would you like to rent? 2\n"
     ]
    },
    {
     "name": "stdout",
     "output_type": "stream",
     "text": [
      "Please select a timeframe:\n",
      "1. Hourly\n",
      "2. Daily\n",
      "3. Weekly\n"
     ]
    },
    {
     "name": "stdin",
     "output_type": "stream",
     "text": [
      " 2\n"
     ]
    },
    {
     "name": "stdout",
     "output_type": "stream",
     "text": [
      "Define the quantity (number of hours, days, weeks): \n"
     ]
    },
    {
     "name": "stdin",
     "output_type": "stream",
     "text": [
      " 2\n"
     ]
    },
    {
     "name": "stdout",
     "output_type": "stream",
     "text": [
      "Time Out: 2023-12-1310:33:56\n",
      "please make a selection:\n",
      "1. display availablity and rates cars\n",
      "2. rent a car\n",
      "3. return a car\n",
      "4. print bill\n",
      "0. exit\n"
     ]
    },
    {
     "name": "stdin",
     "output_type": "stream",
     "text": [
      " 4\n"
     ]
    },
    {
     "name": "stdout",
     "output_type": "stream",
     "text": [
      "\n",
      "---Invoice---\n",
      "Time Out: 2023-12-1310:34:01\n",
      "Car Type: Zenith    # Of Cars: 2     rate: $80    # of rate bought: 1    Cost: $160\n",
      "Car Type: Venom    # Of Cars: 2     rate: $74    # of rate bought: 2    Cost: $296\n",
      "Total Cost: $456\n",
      "\n",
      "---------------\n",
      "please make a selection:\n",
      "1. display availablity and rates cars\n",
      "2. rent a car\n",
      "3. return a car\n",
      "4. print bill\n",
      "0. exit\n"
     ]
    },
    {
     "name": "stdin",
     "output_type": "stream",
     "text": [
      " 3\n"
     ]
    },
    {
     "name": "stdout",
     "output_type": "stream",
     "text": [
      "Return time: 2023-12-1310:34:05\n",
      "-----------------------\n",
      "Returning Car Type: Zenith\n",
      "at: 2023-12-13 10:34:05.673203\n",
      "Total Cars Returned: 2\n",
      "-----------------------\n",
      "-----------------------\n",
      "Returning Car Type: Venom\n",
      "at: 2023-12-13 10:34:05.673203\n",
      "Total Cars Returned: 2\n",
      "-----------------------\n",
      "-------Time In, Time Out-------\n",
      "Time of Rental: 2023-12-13 10:34:01.437145\n",
      "Time of Return: 2023-12-13 10:34:05.673203\n",
      "---\n",
      "Total Time Used: 0 days, 0 hours, 0 minutes, 4 seconds\n",
      "---------------\n",
      "\n",
      "\n",
      "please make a selection:\n",
      "1. display availablity and rates cars\n",
      "2. rent a car\n",
      "3. return a car\n",
      "4. print bill\n",
      "0. exit\n"
     ]
    }
